{
 "cells": [
  {
   "cell_type": "code",
   "execution_count": 1,
   "metadata": {},
   "outputs": [],
   "source": [
    "import SimpleITK as sitk \n",
    "import numpy as np  \n",
    "import cc3d\n",
    "import pandas as pd\n",
    "import numpy as np\n",
    "import os"
   ]
  },
  {
   "cell_type": "code",
   "execution_count": 2,
   "metadata": {},
   "outputs": [],
   "source": [
    "PSMA_SEGMENTATION_FOLDER = '/data/blobfuse/PSMA_PCA_LESIONS_SEGMENTATION/data_resampled_results/'\n",
    "WORKING_FOLDER = \"/home/jhubadmin/Desktop/segmentation_research/lymphoma-segmentation-dnn/\"\n",
    "RESULTS_FOLDER = \"/data/blobfuse/PSMA_PCA_LESIONS_SEGMENTATION/data_resampled_results/check_val_results\""
   ]
  },
  {
   "cell_type": "code",
   "execution_count": 3,
   "metadata": {},
   "outputs": [],
   "source": [
    "fold = 0\n",
    "trainvalid_fpath = os.path.join(WORKING_FOLDER, 'data_split/train_filepaths.csv')\n",
    "trainvalid_df = pd.read_csv(trainvalid_fpath)\n",
    "train_df = trainvalid_df[trainvalid_df['FoldID'] != fold]\n",
    "valid_df = trainvalid_df[trainvalid_df['FoldID'] == fold]"
   ]
  },
  {
   "cell_type": "code",
   "execution_count": 4,
   "metadata": {},
   "outputs": [],
   "source": [
    "ct_files = valid_df[\"CTPATH\"].values\n",
    "pt_files = valid_df[\"PTPATH\"].values\n",
    "gt_files = valid_df[\"GTPATH\"].values"
   ]
  },
  {
   "cell_type": "code",
   "execution_count": 5,
   "metadata": {},
   "outputs": [],
   "source": [
    "pred_dir = \"/data/blobfuse/PSMA_PCA_LESIONS_SEGMENTATION/data_resampled_results/check_val_results/predictions/fold0/unet/unet_fold0_randcrop128/\" \n",
    "_files = sorted(os.listdir(pred_dir))\n",
    "\n",
    "pred_files=[]\n",
    "for i in range(len(_files)):\n",
    "    pred_file = os.path.join(pred_dir,_files[i])\n",
    "    pred_files.append(pred_file)"
   ]
  },
  {
   "cell_type": "code",
   "execution_count": 6,
   "metadata": {},
   "outputs": [],
   "source": [
    "def get_spacing_from_niftipath(path):\n",
    "    image = sitk.ReadImage(path)\n",
    "    return image.GetSpacing()"
   ]
  },
  {
   "cell_type": "code",
   "execution_count": 7,
   "metadata": {},
   "outputs": [],
   "source": [
    "def get_3darray_from_niftipath(\n",
    "    path: str,\n",
    ") -> np.ndarray:\n",
    "    \"\"\"Get a numpy array of a Nifti image using the filepath\n",
    "\n",
    "    Args:\n",
    "        path (str): path of the Nifti file\n",
    "\n",
    "    Returns:\n",
    "        np.ndarray: 3D numpy array for the image\n",
    "    \"\"\"\n",
    "    image = sitk.ReadImage(path)\n",
    "    array = np.transpose(sitk.GetArrayFromImage(image), (2,1,0))\n",
    "    return array\n",
    "\n"
   ]
  },
  {
   "cell_type": "code",
   "execution_count": 14,
   "metadata": {},
   "outputs": [],
   "source": [
    "ptarray = get_3darray_from_niftipath(pt_files[1])\n",
    "predarray = get_3darray_from_niftipath(pred_files[1])\n",
    "maskarray = get_3darray_from_niftipath(gt_files[1])"
   ]
  },
  {
   "cell_type": "code",
   "execution_count": 15,
   "metadata": {},
   "outputs": [],
   "source": [
    "l_out,n = cc3d.connected_components(maskarray, connectivity=18, return_N=True) "
   ]
  },
  {
   "cell_type": "code",
   "execution_count": 19,
   "metadata": {},
   "outputs": [
    {
     "data": {
      "text/plain": [
       "array([0, 1, 2, 3, 4, 5], dtype=uint16)"
      ]
     },
     "execution_count": 19,
     "metadata": {},
     "output_type": "execute_result"
    }
   ],
   "source": [
    "np.unique(l_out)"
   ]
  },
  {
   "cell_type": "code",
   "execution_count": 16,
   "metadata": {},
   "outputs": [
    {
     "data": {
      "text/plain": [
       "5"
      ]
     },
     "execution_count": 16,
     "metadata": {},
     "output_type": "execute_result"
    }
   ],
   "source": [
    "n"
   ]
  },
  {
   "cell_type": "code",
   "execution_count": 8,
   "metadata": {},
   "outputs": [],
   "source": [
    "def calculate_lesionwise_suvmean_suvmax(\n",
    "    ptarray: np.ndarray, \n",
    "    maskarray: np.ndarray,\n",
    "    marker: str = 'SUVmean'\n",
    ") -> np.float64:\n",
    "\n",
    "    lesion_suv_means = []\n",
    "    lesion_suv_max = []\n",
    "\n",
    "    labels_out, num_lesions = cc3d.connected_components(maskarray, connectivity=18, return_N=True)\n",
    "    \n",
    "    for i in range(1, num_lesions+1):\n",
    "        mask = np.zeros_like(labels_out)\n",
    "        mask[labels_out == i] = 1\n",
    "        prod = np.multiply(mask, ptarray)\n",
    "        num_nonzero_voxels = len(np.nonzero(mask)[0])\n",
    "        if marker == \"SUVmean\":\n",
    "            lesion_suv_means.append(np.sum(prod)/num_nonzero_voxels)\n",
    "        elif marker == \"SUVmax\":\n",
    "            lesion_suv_max.append(np.max(prod))            \n",
    "\n",
    "    if marker == \"SUVmean\":\n",
    "        return lesion_suv_means\n",
    "    elif marker ==\"SUVmax\":\n",
    "        return lesion_suv_max\n"
   ]
  },
  {
   "cell_type": "code",
   "execution_count": 9,
   "metadata": {},
   "outputs": [],
   "source": [
    "def get_num_lesions (maskarray):\n",
    "    _, num_lesions = cc3d.connected_components(maskarray, connectivity=18, return_N=True)\n",
    "    return num_lesions"
   ]
  },
  {
   "cell_type": "code",
   "execution_count": 10,
   "metadata": {},
   "outputs": [],
   "source": [
    "def calculate_lesionwise_tmtv(\n",
    "    maskarray: np.ndarray,\n",
    "    spacing: tuple\n",
    ") -> np.float64:\n",
    "    \"\"\"Function to return the total metabolic tumor volume (TMTV) in cm^3 using \n",
    "    3D mask containing 0s for background and 1s for lesions/tumors\n",
    "    Args:\n",
    "        maskarray (np.ndarray): numpy ndarray for 3D mask image\n",
    "\n",
    "    Returns:\n",
    "        np.float64: \n",
    "    \"\"\"\n",
    "    voxel_volume_cc = np.prod(spacing) / 1000\n",
    "    labels_out, num_lesions = cc3d.connected_components(maskarray, connectivity=18, return_N=True)\n",
    "    \n",
    "    if num_lesions == 0:\n",
    "        return 0.0\n",
    "    else:\n",
    "        _, lesion_num_voxels = np.unique(labels_out, return_counts=True)\n",
    "        lesion_num_voxels = lesion_num_voxels[1:]\n",
    "        lesion_mtvs = voxel_volume_cc*lesion_num_voxels\n",
    "    \n",
    "    return lesion_mtvs\n"
   ]
  },
  {
   "cell_type": "code",
   "execution_count": 11,
   "metadata": {},
   "outputs": [],
   "source": [
    "spacing = get_spacing_from_niftipath(gt_files[1])"
   ]
  },
  {
   "cell_type": "code",
   "execution_count": 21,
   "metadata": {},
   "outputs": [],
   "source": [
    "\n",
    "def calculate_lesionwise_tlg(\n",
    "    ptarray: np.ndarray,\n",
    "    maskarray: np.ndarray,\n",
    "    spacing: tuple\n",
    ") -> np.float64:\n",
    "    \"\"\"Function to return the total lesion glycolysis (TLG) using a 3D PET image \n",
    "    and the corresponding 3D segmentation mask (containing 0s for background and\n",
    "    1s for lesion/tumor)\n",
    "    TLG = SUV1*V1 + SUV2*V2 + ... + SUVn*Vn, where SUV1...SUVn are the SUVmean \n",
    "    values of lesions 1...n with volumes V1...Vn, respectively\n",
    "\n",
    "    Args:\n",
    "        ptarray (np.ndarray): numpy ndarray for 3D PET image\n",
    "        maskarray (np.ndarray): numpy ndarray for 3D mask image\n",
    "\n",
    "    Returns:\n",
    "        np.float64: total lesion glycolysis in cm^3 (assuming SUV is unitless)\n",
    "    \"\"\"\n",
    "    voxel_volume_cc = np.prod(spacing)/1000 # voxel volume in cm^3\n",
    "\n",
    "    labels_out, num_lesions = cc3d.connected_components(maskarray, connectivity=18, return_N=True)\n",
    "    tlg = []\n",
    "    if num_lesions == 0:\n",
    "        return 0.0\n",
    "    else:\n",
    "        _, lesion_num_voxels = np.unique(labels_out, return_counts=True)\n",
    "        lesion_num_voxels = lesion_num_voxels[1:]\n",
    "        lesion_mtvs = voxel_volume_cc*lesion_num_voxels\n",
    "        \n",
    "        lesion_suvmeans = []\n",
    "        for i in range(1, num_lesions+1):\n",
    "            mask = np.zeros_like(labels_out)\n",
    "            mask[labels_out == i] = 1\n",
    "            prod = np.multiply(mask, ptarray)\n",
    "            num_nonzero_voxels = len(np.nonzero(mask)[0])\n",
    "            lesion_suvmeans.append(np.sum(prod)/num_nonzero_voxels)\n",
    "        \n",
    "        tlg = np.multiply(lesion_mtvs, lesion_suvmeans)\n",
    "    return tlg"
   ]
  },
  {
   "cell_type": "code",
   "execution_count": 22,
   "metadata": {},
   "outputs": [],
   "source": [
    "def calculate_lesion_metrics(lesion, ptarray, spacing, calculate_tmtv, calculate_suvmean_suvmax, calculate_tlg):\n",
    "    \"\"\"Helper function to calculate all metrics for a single lesion.\"\"\"\n",
    "    metrics = {\n",
    "        'mtv': calculate_tmtv(lesion, spacing),\n",
    "        'suvmean': calculate_suvmean_suvmax(ptarray, lesion, marker='SUVmean'),\n",
    "        'suvmax': calculate_suvmean_suvmax(ptarray, lesion, marker='SUVmax'),\n",
    "        'tlg': calculate_tlg(ptarray, lesion, spacing)\n",
    "    }\n",
    "    return metrics\n",
    "\n",
    "def match_lesions(ptarray, ground_truth_mask, predicted_mask, spacing):\n",
    "    gt_labeled, gt_num = cc3d.connected_components(ground_truth_mask, connectivity=18, return_N=True)\n",
    "    pred_labeled, pred_num = cc3d.connected_components(predicted_mask, connectivity=18, return_N=True)\n",
    "\n",
    "    gt_metrics = {}\n",
    "    pred_metrics = {}\n",
    "    matches = []\n",
    "\n",
    "    for i in range(1, gt_num + 1):\n",
    "        gt_lesion = gt_labeled == i\n",
    "        gt_metrics[i] = calculate_lesion_metrics(gt_lesion, ptarray, spacing, calculate_lesionwise_tmtv, calculate_lesionwise_suvmean_suvmax, calculate_lesionwise_tlg)\n",
    "\n",
    "    for j in range(1, pred_num + 1):\n",
    "        pred_lesion = pred_labeled == j\n",
    "        pred_metrics[j] = calculate_lesion_metrics(pred_lesion, ptarray, spacing, calculate_lesionwise_tmtv, calculate_lesionwise_suvmean_suvmax, calculate_lesionwise_tlg)\n",
    "\n",
    "    for i in range(1, gt_num + 1):\n",
    "        for j in range(1, pred_num + 1):\n",
    "            #Check if there is an overlap between voxels then indicate that as a match\n",
    "            if np.any((gt_labeled == i) & (pred_labeled == j)): \n",
    "                matches.append((i, j))\n",
    "\n",
    "    return gt_metrics, pred_metrics, matches\n",
    "\n",
    "gt_metrics, pred_metrics, matches = match_lesions(ptarray, maskarray, predarray, spacing)\n"
   ]
  },
  {
   "cell_type": "code",
   "execution_count": 23,
   "metadata": {},
   "outputs": [
    {
     "data": {
      "text/plain": [
       "{1: {'mtv': array([2.34711902]),\n",
       "  'suvmean': [1.797012045751014],\n",
       "  'suvmax': [4.362869276409522],\n",
       "  'tlg': array([4.21780116])},\n",
       " 2: {'mtv': array([2.56444486]),\n",
       "  'suvmean': [6.125233440988154],\n",
       "  'suvmax': [15.206745068646311],\n",
       "  'tlg': array([15.70782342])},\n",
       " 3: {'mtv': array([2.73830553]),\n",
       "  'suvmean': [1.0729957853875407],\n",
       "  'suvmax': [2.35724704606916],\n",
       "  'tlg': array([2.93819029])},\n",
       " 4: {'mtv': array([6.12858856]),\n",
       "  'suvmean': [4.792319369032199],\n",
       "  'suvmax': [14.787530718404419],\n",
       "  'tlg': array([29.37015368])},\n",
       " 5: {'mtv': array([1.34742018]),\n",
       "  'suvmean': [3.6453494240391504],\n",
       "  'suvmax': [7.8069708453329465],\n",
       "  'tlg': array([4.91181738])}}"
      ]
     },
     "execution_count": 23,
     "metadata": {},
     "output_type": "execute_result"
    }
   ],
   "source": [
    "gt_metrics"
   ]
  },
  {
   "cell_type": "code",
   "execution_count": 24,
   "metadata": {},
   "outputs": [
    {
     "data": {
      "text/plain": [
       "{1: {'mtv': array([0.65197751]),\n",
       "  'suvmean': [3.8763949232313366],\n",
       "  'suvmax': [6.364083131663564],\n",
       "  'tlg': array([2.5273223])},\n",
       " 2: {'mtv': array([3.12949203]),\n",
       "  'suvmean': [5.754393860215095],\n",
       "  'suvmax': [15.206745068646311],\n",
       "  'tlg': array([18.00832974])},\n",
       " 3: {'mtv': array([0.04346517]),\n",
       "  'suvmean': [7.044459343326167],\n",
       "  'suvmax': [7.044459343326167],\n",
       "  'tlg': array([0.3061886])},\n",
       " 4: {'mtv': array([2.04286285]),\n",
       "  'suvmean': [3.001329394592281],\n",
       "  'suvmax': [7.8069708453329465],\n",
       "  'tlg': array([6.13130434])}}"
      ]
     },
     "execution_count": 24,
     "metadata": {},
     "output_type": "execute_result"
    }
   ],
   "source": [
    "pred_metrics"
   ]
  },
  {
   "cell_type": "code",
   "execution_count": 37,
   "metadata": {},
   "outputs": [],
   "source": [
    "g_out,n = cc3d.connected_components(maskarray, connectivity=18, return_N=True) "
   ]
  },
  {
   "cell_type": "code",
   "execution_count": 38,
   "metadata": {},
   "outputs": [],
   "source": [
    "p_out,n = cc3d.connected_components(predarray, connectivity=18, return_N=True)"
   ]
  },
  {
   "cell_type": "code",
   "execution_count": 47,
   "metadata": {},
   "outputs": [],
   "source": [
    "b = np.any((p_out==2) & (g_out==2))"
   ]
  },
  {
   "cell_type": "code",
   "execution_count": 65,
   "metadata": {},
   "outputs": [],
   "source": [
    "def lesionwise_dice(maskarray, predarray, g, p):\n",
    "    g_out,_ = cc3d.connected_components(maskarray, connectivity=18, return_N=True) \n",
    "    p_out,_ = cc3d.connected_components(predarray, connectivity=18, return_N=True)\n",
    "    \n",
    "    g_mask = np.zeros_like(g_out)\n",
    "    g_mask[g_out == g] = 1\n",
    "\n",
    "    p_mask = np.zeros_like(p_out)\n",
    "    p_mask[p_out == p] = 1\n",
    "\n",
    "    # Calculate intersection and union\n",
    "    intersection = p_mask[g_mask==1]\n",
    "\n",
    "    # Compute Dice score\n",
    "    dice = 2 * np.sum(intersection) / (np.sum(g_mask) + np.sum(p_mask))\n",
    "    \n",
    "    return dice\n",
    "\n",
    "    # print(\"Dice score for tumor labeled as 2:\", dice)"
   ]
  },
  {
   "cell_type": "code",
   "execution_count": 66,
   "metadata": {},
   "outputs": [],
   "source": [
    "a = lesionwise_dice(maskarray, predarray, 2, 2)"
   ]
  },
  {
   "cell_type": "code",
   "execution_count": 67,
   "metadata": {},
   "outputs": [
    {
     "data": {
      "text/plain": [
       "0.8549618320610687"
      ]
     },
     "execution_count": 67,
     "metadata": {},
     "output_type": "execute_result"
    }
   ],
   "source": [
    "a"
   ]
  },
  {
   "cell_type": "code",
   "execution_count": 54,
   "metadata": {},
   "outputs": [
    {
     "data": {
      "text/plain": [
       "[0.8549618320610687, 0.014084507042253521, 0.7948717948717948]"
      ]
     },
     "execution_count": 54,
     "metadata": {},
     "output_type": "execute_result"
    }
   ],
   "source": [
    "a"
   ]
  },
  {
   "cell_type": "code",
   "execution_count": 52,
   "metadata": {},
   "outputs": [
    {
     "data": {
      "text/plain": [
       "[0.8549618320610687, 0.014084507042253521, 0.7948717948717948]"
      ]
     },
     "execution_count": 52,
     "metadata": {},
     "output_type": "execute_result"
    }
   ],
   "source": [
    "a"
   ]
  },
  {
   "cell_type": "code",
   "execution_count": 61,
   "metadata": {},
   "outputs": [
    {
     "name": "stdout",
     "output_type": "stream",
     "text": [
      "None\n",
      "1\n",
      "(2, 2)\n",
      "2\n",
      "None\n",
      "3\n",
      "(4, 3)\n",
      "4\n",
      "(5, 4)\n",
      "5\n"
     ]
    }
   ],
   "source": [
    "for gt_id in gt_metrics:\n",
    "    match = next((m for m in matches if m[0] == gt_id), None)\n",
    "    print(match)\n",
    "    \n",
    "    print(gt_id)"
   ]
  },
  {
   "cell_type": "code",
   "execution_count": 62,
   "metadata": {},
   "outputs": [
    {
     "data": {
      "text/plain": [
       "[(2, 2), (4, 3), (5, 4)]"
      ]
     },
     "execution_count": 62,
     "metadata": {},
     "output_type": "execute_result"
    }
   ],
   "source": [
    "matches"
   ]
  },
  {
   "cell_type": "code",
   "execution_count": 60,
   "metadata": {},
   "outputs": [
    {
     "data": {
      "text/plain": [
       "(5, 4)"
      ]
     },
     "execution_count": 60,
     "metadata": {},
     "output_type": "execute_result"
    }
   ],
   "source": [
    "match"
   ]
  },
  {
   "cell_type": "code",
   "execution_count": 64,
   "metadata": {},
   "outputs": [
    {
     "name": "stdout",
     "output_type": "stream",
     "text": [
      "(2, 2)\n",
      "(4, 3)\n",
      "(5, 4)\n"
     ]
    }
   ],
   "source": [
    "for m in matches:\n",
    "    print(m)"
   ]
  },
  {
   "cell_type": "code",
   "execution_count": null,
   "metadata": {},
   "outputs": [],
   "source": [
    "match = next((m for m in matches if m[0] == gt_id), None)"
   ]
  },
  {
   "cell_type": "code",
   "execution_count": 27,
   "metadata": {},
   "outputs": [
    {
     "data": {
      "text/plain": [
       "[0.0]"
      ]
     },
     "execution_count": 27,
     "metadata": {},
     "output_type": "execute_result"
    }
   ],
   "source": [
    "a"
   ]
  },
  {
   "cell_type": "code",
   "execution_count": 25,
   "metadata": {},
   "outputs": [
    {
     "name": "stdout",
     "output_type": "stream",
     "text": [
      "2\n",
      "2\n",
      "4\n",
      "3\n",
      "5\n",
      "4\n"
     ]
    }
   ],
   "source": [
    "a = []\n",
    "for g, p in matches:\n",
    "    a.append(np.sum([predarray[p][maskarray[g]==1]]))"
   ]
  },
  {
   "cell_type": "code",
   "execution_count": 68,
   "metadata": {},
   "outputs": [],
   "source": [
    "def categorize_by_size(mtv):\n",
    "    if mtv < 1.5:\n",
    "        return 'small'\n",
    "    elif mtv < 4:\n",
    "        return 'medium'\n",
    "    else:\n",
    "        return 'large'\n",
    "\n",
    "def calculate_precision_recall(matches, pred_metrics, gt_metrics, size):\n",
    "    # Find match pairs where the size of the ground truth matches the specified size\n",
    "    matches_size = [m for m in matches if categorize_by_size(gt_metrics[m[0]]['mtv']) == size]\n",
    "    \n",
    "    pred_size = [j for j, metrics in pred_metrics.items() if categorize_by_size(metrics['mtv']) == size]\n",
    "    gt_size = [i for i, metrics in gt_metrics.items() if categorize_by_size(metrics['mtv']) == size]\n",
    "    false_positives = [j for j in pred_size if j not in [m[1] for m in matches]]\n",
    "    \n",
    "    tpfp = len(matches_size) + len(false_positives)\n",
    "    \n",
    "    if len(gt_size) == 0:\n",
    "        precision = np.nan\n",
    "        recall = np.nan\n",
    "    else:\n",
    "        precision = 0 if tpfp == 0 else len(matches_size) / tpfp\n",
    "        recall = len(matches_size) / len(gt_size) \n",
    "    \n",
    "\n",
    "    return precision, recall\n",
    "\n",
    "def precision_recall(matches, pred_metrics, gt_metrics):\n",
    "    precisions = {}\n",
    "    recalls = {}\n",
    "    for size in ['small', 'medium', 'large']:\n",
    "        precision, recall = calculate_precision_recall(matches, pred_metrics, gt_metrics, size)\n",
    "        precisions[size] = precision\n",
    "        recalls[size] = recall\n",
    "\n",
    "    return precisions, recalls"
   ]
  },
  {
   "cell_type": "code",
   "execution_count": 102,
   "metadata": {},
   "outputs": [],
   "source": [
    "def write_p_r_to_df(filenames, predfiles, pt_files, gt_files, spacing):    \n",
    "\n",
    "    columns = [\n",
    "            'patient_filename', 'Precision_S', 'Precision_M', 'Precision_L', 'Recall_S','Recall_M','Recall_L'\n",
    "        ]\n",
    "    df = pd.DataFrame(columns=columns)\n",
    "    \n",
    "    for index in range(len(predfiles)):\n",
    "        patient_filename = filenames[index]\n",
    "        pt_array = get_3darray_from_niftipath(pt_files[index])\n",
    "        mask_array = get_3darray_from_niftipath(gt_files[index])\n",
    "        pred_array = get_3darray_from_niftipath(predfiles[index])\n",
    "\n",
    "        gt_metrics, pred_metrics, matches = match_lesions(pt_array, mask_array, pred_array, spacing)\n",
    "\n",
    "        # Initialize rows for each lesion in ground truth\n",
    "        for _ in gt_metrics:\n",
    "            p,r = precision_recall(matches, pred_metrics,gt_metrics)\n",
    "            row = {\n",
    "                'patient_filename': patient_filename,\n",
    "                'Precision_S': p['small'],\n",
    "                'Precision_M':p['medium'],\n",
    "                'Precision_L':p['large'],\n",
    "                'Recall_S': r['small'],\n",
    "                'Recall_M': r['medium'],\n",
    "                'Recall_L': r['large']\n",
    "                }\n",
    "\n",
    "            df = pd.concat([df, pd.DataFrame([row])], ignore_index=True)\n",
    "    df.to_csv('pr_metrics.csv', index=False)\n",
    "    return df"
   ]
  },
  {
   "cell_type": "code",
   "execution_count": 103,
   "metadata": {},
   "outputs": [],
   "source": [
    "dfpr = write_p_r_to_df(_files, pred_files, pt_files, gt_files, spacing)"
   ]
  },
  {
   "cell_type": "code",
   "execution_count": 69,
   "metadata": {},
   "outputs": [],
   "source": [
    "def calculate_patient_level_dissemination(\n",
    "    maskarray: np.ndarray,\n",
    "    spacing: tuple\n",
    ") -> np.float64:\n",
    "    \"\"\"Function to return the tumor dissemination (Dmax) using 3D segmentation mask\n",
    "    Dmax = max possible distance between any two foreground voxels in a patient;\n",
    "    these two voxels can come form the same lesions (in case of one lesion) \n",
    "    or from different lesions (in case of multiple lesions) \n",
    "   \n",
    "    Args:\n",
    "        maskarray (np.ndarray): numpy array for 3D mask image\n",
    "\n",
    "    Returns:\n",
    "        np.float64: dissemination value in cm\n",
    "    \"\"\"\n",
    "    maskarray = maskarray.astype(np.int8)\n",
    "    nonzero_voxels = np.argwhere(maskarray == 1)\n",
    "    distances = np.sqrt(np.sum(((nonzero_voxels[:, None] - nonzero_voxels) * spacing)**2, axis=2))\n",
    "    farthest_indices = np.unravel_index(np.argmax(distances), distances.shape)\n",
    "    dmax = distances[farthest_indices]/10  # converting to cm\n",
    "    del maskarray \n",
    "    del nonzero_voxels\n",
    "    del distances \n",
    "    return dmax "
   ]
  },
  {
   "cell_type": "code",
   "execution_count": 70,
   "metadata": {},
   "outputs": [],
   "source": [
    "def calculate_patient_level_dice_score(\n",
    "    gtarray: np.ndarray,\n",
    "    predarray: np.ndarray, \n",
    ") -> np.float64:\n",
    "    \"\"\"Function to return the Dice similarity coefficient (Dice score) between\n",
    "    2 segmentation masks (containing 0s for background and 1s for lesions/tumors)\n",
    "\n",
    "    Args:\n",
    "        maskarray_1 (np.ndarray): numpy ndarray for the first mask\n",
    "        maskarray_2 (np.ndarray): numpy ndarray for the second mask\n",
    "\n",
    "    Returns:\n",
    "        np.float64: Dice score\n",
    "    \"\"\"\n",
    "    dice_score = 2.0*np.sum(predarray[gtarray == 1])/(np.sum(gtarray) + np.sum(predarray))\n",
    "    return dice_score"
   ]
  },
  {
   "cell_type": "code",
   "execution_count": 78,
   "metadata": {},
   "outputs": [],
   "source": [
    "def create_and_save_dataframe(filenames, predfiles, pt_files, gt_files, spacing):\n",
    "    columns = [\n",
    "        'patient_filename', 'Number of gt_lesions', 'Number of pred lesions', 'Lesion ID', 'PLvl_Dice Score', 'Dmax'\n",
    "    ]\n",
    "    df = pd.DataFrame(columns=columns)\n",
    "    \n",
    "    for index in range(len(predfiles)):\n",
    "        patient_filename = filenames[index]\n",
    "        pt_array = get_3darray_from_niftipath(pt_files[index])\n",
    "        mask_array = get_3darray_from_niftipath(gt_files[index])\n",
    "        pred_array = get_3darray_from_niftipath(predfiles[index])\n",
    "\n",
    "        gt_metrics, pred_metrics, matches = match_lesions(pt_array, mask_array, pred_array, spacing)\n",
    "        dice_score = calculate_patient_level_dice_score(mask_array, pred_array)\n",
    "        dmax = calculate_patient_level_dissemination(mask_array, spacing)\n",
    "        num_lesions_gt = len(gt_metrics)\n",
    "        num_lesions_pred = len(pred_metrics)\n",
    "\n",
    "        for gt_id in gt_metrics:\n",
    "            row = {\n",
    "                'patient_filename': patient_filename,\n",
    "                'Number of gt_lesions': num_lesions_gt,\n",
    "                'Number of pred lesions': num_lesions_pred,\n",
    "                'Lesion ID': gt_id,\n",
    "                'Dmax':dmax,\n",
    "                'PLvl_Dice Score': dice_score\n",
    "                }\n",
    "\n",
    "            # Set ground truth metrics\n",
    "            row.update({f'{metric}_gt': gt_metrics[gt_id].get(metric, np.nan) for metric in ['suvmean', 'suvmax', 'mtv', 'tlg']})\n",
    "            match = next((m for m in matches if m[0] == gt_id), None)\n",
    "            if match:\n",
    "                pred_id = match[1]\n",
    "                row.update({f'{metric}_pred': pred_metrics[pred_id].get(metric, np.nan) for metric in ['suvmean', 'suvmax', 'mtv', 'tlg']})\n",
    "                row.update({'lesionwise_dice': lesionwise_dice(mask_array,pred_array, gt_id, pred_id)})\n",
    "            else:\n",
    "                \n",
    "                row.update({f'{metric}_pred': np.nan for metric in ['suvmean', 'suvmax', 'mtv', 'tlg']})\n",
    "                row.update({'lesionwise_dice': np.nan})\n",
    "            df = pd.concat([df, pd.DataFrame([row])], ignore_index=True)\n",
    "    \n",
    "    df.to_csv('patient_lesion_metrics.csv', index=False)\n",
    "    return df"
   ]
  },
  {
   "cell_type": "code",
   "execution_count": 79,
   "metadata": {},
   "outputs": [],
   "source": [
    "df = create_and_save_dataframe(_files, pred_files, pt_files, gt_files, spacing)"
   ]
  },
  {
   "cell_type": "code",
   "execution_count": 77,
   "metadata": {},
   "outputs": [
    {
     "data": {
      "text/html": [
       "<div>\n",
       "<style scoped>\n",
       "    .dataframe tbody tr th:only-of-type {\n",
       "        vertical-align: middle;\n",
       "    }\n",
       "\n",
       "    .dataframe tbody tr th {\n",
       "        vertical-align: top;\n",
       "    }\n",
       "\n",
       "    .dataframe thead th {\n",
       "        text-align: right;\n",
       "    }\n",
       "</style>\n",
       "<table border=\"1\" class=\"dataframe\">\n",
       "  <thead>\n",
       "    <tr style=\"text-align: right;\">\n",
       "      <th></th>\n",
       "      <th>patient_filename</th>\n",
       "      <th>Number of gt_lesions</th>\n",
       "      <th>Number of pred lesions</th>\n",
       "      <th>Lesion ID</th>\n",
       "      <th>Dice Score</th>\n",
       "      <th>Dmax</th>\n",
       "      <th>suvmean_gt</th>\n",
       "      <th>suvmax_gt</th>\n",
       "      <th>mtv_gt</th>\n",
       "      <th>tlg_gt</th>\n",
       "      <th>suvmean_pred</th>\n",
       "      <th>suvmax_pred</th>\n",
       "      <th>mtv_pred</th>\n",
       "      <th>tlg_pred</th>\n",
       "      <th>lesionwise_dice</th>\n",
       "    </tr>\n",
       "  </thead>\n",
       "  <tbody>\n",
       "    <tr>\n",
       "      <th>0</th>\n",
       "      <td>PSMA-01-003.nii.gz</td>\n",
       "      <td>1</td>\n",
       "      <td>2</td>\n",
       "      <td>1</td>\n",
       "      <td>0.779923</td>\n",
       "      <td>2.505833</td>\n",
       "      <td>[4.553546421752873]</td>\n",
       "      <td>[13.247252461905719]</td>\n",
       "      <td>[5.563541391664086]</td>\n",
       "      <td>[25.333843996286]</td>\n",
       "      <td>[4.92427421425143]</td>\n",
       "      <td>[13.247252461905719]</td>\n",
       "      <td>[4.998494219073202]</td>\n",
       "      <td>[24.61395619306701]</td>\n",
       "      <td>0.831276</td>\n",
       "    </tr>\n",
       "    <tr>\n",
       "      <th>1</th>\n",
       "      <td>PSMA-01-006.nii.gz</td>\n",
       "      <td>5</td>\n",
       "      <td>4</td>\n",
       "      <td>1</td>\n",
       "      <td>0.364389</td>\n",
       "      <td>18.152948</td>\n",
       "      <td>[1.797012045751014]</td>\n",
       "      <td>[4.362869276409522]</td>\n",
       "      <td>[2.3471190246082863]</td>\n",
       "      <td>[4.217801160032461]</td>\n",
       "      <td>NaN</td>\n",
       "      <td>NaN</td>\n",
       "      <td>NaN</td>\n",
       "      <td>NaN</td>\n",
       "      <td>NaN</td>\n",
       "    </tr>\n",
       "    <tr>\n",
       "      <th>2</th>\n",
       "      <td>PSMA-01-006.nii.gz</td>\n",
       "      <td>5</td>\n",
       "      <td>4</td>\n",
       "      <td>2</td>\n",
       "      <td>0.364389</td>\n",
       "      <td>18.152948</td>\n",
       "      <td>[6.125233440988154]</td>\n",
       "      <td>[15.206745068646311]</td>\n",
       "      <td>[2.5644448602201644]</td>\n",
       "      <td>[15.707823415390743]</td>\n",
       "      <td>[5.754393860215095]</td>\n",
       "      <td>[15.206745068646311]</td>\n",
       "      <td>[3.1294920328110485]</td>\n",
       "      <td>[18.008329739199954]</td>\n",
       "      <td>0.854962</td>\n",
       "    </tr>\n",
       "    <tr>\n",
       "      <th>3</th>\n",
       "      <td>PSMA-01-006.nii.gz</td>\n",
       "      <td>5</td>\n",
       "      <td>4</td>\n",
       "      <td>3</td>\n",
       "      <td>0.364389</td>\n",
       "      <td>18.152948</td>\n",
       "      <td>[1.0729957853875407]</td>\n",
       "      <td>[2.35724704606916]</td>\n",
       "      <td>[2.738305528709667]</td>\n",
       "      <td>[2.938190291408874]</td>\n",
       "      <td>NaN</td>\n",
       "      <td>NaN</td>\n",
       "      <td>NaN</td>\n",
       "      <td>NaN</td>\n",
       "      <td>NaN</td>\n",
       "    </tr>\n",
       "    <tr>\n",
       "      <th>4</th>\n",
       "      <td>PSMA-01-006.nii.gz</td>\n",
       "      <td>5</td>\n",
       "      <td>4</td>\n",
       "      <td>4</td>\n",
       "      <td>0.364389</td>\n",
       "      <td>18.152948</td>\n",
       "      <td>[4.792319369032199]</td>\n",
       "      <td>[14.787530718404419]</td>\n",
       "      <td>[6.12858856425497]</td>\n",
       "      <td>[29.370153681308324]</td>\n",
       "      <td>[7.044459343326167]</td>\n",
       "      <td>[7.044459343326167]</td>\n",
       "      <td>[0.04346516712237567]</td>\n",
       "      <td>[0.30618860264445263]</td>\n",
       "      <td>0.014085</td>\n",
       "    </tr>\n",
       "    <tr>\n",
       "      <th>5</th>\n",
       "      <td>PSMA-01-006.nii.gz</td>\n",
       "      <td>5</td>\n",
       "      <td>4</td>\n",
       "      <td>5</td>\n",
       "      <td>0.364389</td>\n",
       "      <td>18.152948</td>\n",
       "      <td>[3.6453494240391504]</td>\n",
       "      <td>[7.8069708453329465]</td>\n",
       "      <td>[1.347420180793646]</td>\n",
       "      <td>[4.911817379994845]</td>\n",
       "      <td>[3.001329394592281]</td>\n",
       "      <td>[7.8069708453329465]</td>\n",
       "      <td>[2.0428628547516565]</td>\n",
       "      <td>[6.131304335086848]</td>\n",
       "      <td>0.794872</td>\n",
       "    </tr>\n",
       "    <tr>\n",
       "      <th>6</th>\n",
       "      <td>PSMA-01-008.nii.gz</td>\n",
       "      <td>1</td>\n",
       "      <td>8</td>\n",
       "      <td>1</td>\n",
       "      <td>0.514286</td>\n",
       "      <td>2.424351</td>\n",
       "      <td>[7.760887960634833]</td>\n",
       "      <td>[30.757347070604776]</td>\n",
       "      <td>[4.476912213604694]</td>\n",
       "      <td>[34.74481409938372]</td>\n",
       "      <td>[7.590930280829957]</td>\n",
       "      <td>[30.757347070604776]</td>\n",
       "      <td>[4.563842547849445]</td>\n",
       "      <td>[34.64381059341049]</td>\n",
       "      <td>0.865385</td>\n",
       "    </tr>\n",
       "    <tr>\n",
       "      <th>7</th>\n",
       "      <td>PSMA-01-011.nii.gz</td>\n",
       "      <td>1</td>\n",
       "      <td>2</td>\n",
       "      <td>1</td>\n",
       "      <td>0.571429</td>\n",
       "      <td>0.878370</td>\n",
       "      <td>[2.8114684545499884]</td>\n",
       "      <td>[4.258717648222057]</td>\n",
       "      <td>[0.4346516712237567]</td>\n",
       "      <td>[1.2220094623630249]</td>\n",
       "      <td>[2.1952652444915906]</td>\n",
       "      <td>[4.258717648222057]</td>\n",
       "      <td>[0.9127685095698891]</td>\n",
       "      <td>[2.0037689853251672]</td>\n",
       "      <td>0.645161</td>\n",
       "    </tr>\n",
       "    <tr>\n",
       "      <th>8</th>\n",
       "      <td>PSMA-01-014.nii.gz</td>\n",
       "      <td>1</td>\n",
       "      <td>2</td>\n",
       "      <td>1</td>\n",
       "      <td>0.714286</td>\n",
       "      <td>1.990386</td>\n",
       "      <td>[4.485138644942813]</td>\n",
       "      <td>[8.312285074704427]</td>\n",
       "      <td>[2.8252358629544188]</td>\n",
       "      <td>[12.67157455001522]</td>\n",
       "      <td>[3.5606357927491534]</td>\n",
       "      <td>[8.312285074704427]</td>\n",
       "      <td>[5.041959386195578]</td>\n",
       "      <td>[17.952581056075527]</td>\n",
       "      <td>0.718232</td>\n",
       "    </tr>\n",
       "  </tbody>\n",
       "</table>\n",
       "</div>"
      ],
      "text/plain": [
       "     patient_filename Number of gt_lesions Number of pred lesions Lesion ID  \\\n",
       "0  PSMA-01-003.nii.gz                    1                      2         1   \n",
       "1  PSMA-01-006.nii.gz                    5                      4         1   \n",
       "2  PSMA-01-006.nii.gz                    5                      4         2   \n",
       "3  PSMA-01-006.nii.gz                    5                      4         3   \n",
       "4  PSMA-01-006.nii.gz                    5                      4         4   \n",
       "5  PSMA-01-006.nii.gz                    5                      4         5   \n",
       "6  PSMA-01-008.nii.gz                    1                      8         1   \n",
       "7  PSMA-01-011.nii.gz                    1                      2         1   \n",
       "8  PSMA-01-014.nii.gz                    1                      2         1   \n",
       "\n",
       "   Dice Score       Dmax            suvmean_gt             suvmax_gt  \\\n",
       "0    0.779923   2.505833   [4.553546421752873]  [13.247252461905719]   \n",
       "1    0.364389  18.152948   [1.797012045751014]   [4.362869276409522]   \n",
       "2    0.364389  18.152948   [6.125233440988154]  [15.206745068646311]   \n",
       "3    0.364389  18.152948  [1.0729957853875407]    [2.35724704606916]   \n",
       "4    0.364389  18.152948   [4.792319369032199]  [14.787530718404419]   \n",
       "5    0.364389  18.152948  [3.6453494240391504]  [7.8069708453329465]   \n",
       "6    0.514286   2.424351   [7.760887960634833]  [30.757347070604776]   \n",
       "7    0.571429   0.878370  [2.8114684545499884]   [4.258717648222057]   \n",
       "8    0.714286   1.990386   [4.485138644942813]   [8.312285074704427]   \n",
       "\n",
       "                 mtv_gt                tlg_gt          suvmean_pred  \\\n",
       "0   [5.563541391664086]     [25.333843996286]    [4.92427421425143]   \n",
       "1  [2.3471190246082863]   [4.217801160032461]                   NaN   \n",
       "2  [2.5644448602201644]  [15.707823415390743]   [5.754393860215095]   \n",
       "3   [2.738305528709667]   [2.938190291408874]                   NaN   \n",
       "4    [6.12858856425497]  [29.370153681308324]   [7.044459343326167]   \n",
       "5   [1.347420180793646]   [4.911817379994845]   [3.001329394592281]   \n",
       "6   [4.476912213604694]   [34.74481409938372]   [7.590930280829957]   \n",
       "7  [0.4346516712237567]  [1.2220094623630249]  [2.1952652444915906]   \n",
       "8  [2.8252358629544188]   [12.67157455001522]  [3.5606357927491534]   \n",
       "\n",
       "            suvmax_pred               mtv_pred               tlg_pred  \\\n",
       "0  [13.247252461905719]    [4.998494219073202]    [24.61395619306701]   \n",
       "1                   NaN                    NaN                    NaN   \n",
       "2  [15.206745068646311]   [3.1294920328110485]   [18.008329739199954]   \n",
       "3                   NaN                    NaN                    NaN   \n",
       "4   [7.044459343326167]  [0.04346516712237567]  [0.30618860264445263]   \n",
       "5  [7.8069708453329465]   [2.0428628547516565]    [6.131304335086848]   \n",
       "6  [30.757347070604776]    [4.563842547849445]    [34.64381059341049]   \n",
       "7   [4.258717648222057]   [0.9127685095698891]   [2.0037689853251672]   \n",
       "8   [8.312285074704427]    [5.041959386195578]   [17.952581056075527]   \n",
       "\n",
       "   lesionwise_dice  \n",
       "0         0.831276  \n",
       "1              NaN  \n",
       "2         0.854962  \n",
       "3              NaN  \n",
       "4         0.014085  \n",
       "5         0.794872  \n",
       "6         0.865385  \n",
       "7         0.645161  \n",
       "8         0.718232  "
      ]
     },
     "execution_count": 77,
     "metadata": {},
     "output_type": "execute_result"
    }
   ],
   "source": [
    "df"
   ]
  },
  {
   "cell_type": "code",
   "execution_count": null,
   "metadata": {},
   "outputs": [],
   "source": []
  },
  {
   "cell_type": "code",
   "execution_count": null,
   "metadata": {},
   "outputs": [],
   "source": [
    "def calculate_patient_level_false_positive_volume(\n",
    "    gtarray: np.ndarray,\n",
    "    predarray: np.ndarray,\n",
    "    spacing: tuple\n",
    ") -> np.float64:\n",
    "    # compute number of voxels of false positive connected components in prediction mask\n",
    "    pred_connected_components = cc3d.connected_components(predarray, connectivity=18)\n",
    "    \n",
    "    false_positive = 0\n",
    "    for idx in range(1,pred_connected_components.max()+1):\n",
    "        comp_mask = np.isin(pred_connected_components, idx)\n",
    "        if (comp_mask*gtarray).sum() == 0:\n",
    "            false_positive += comp_mask.sum()\n",
    "    \n",
    "    voxel_volume_cc = np.prod(spacing)/1000\n",
    "    return false_positive*voxel_volume_cc\n",
    "\n",
    "#%%\n",
    "def calculate_patient_level_false_negative_volume(\n",
    "    gtarray: np.ndarray,\n",
    "    predarray: np.ndarray,\n",
    "    spacing: tuple\n",
    ") -> np.float64:\n",
    "    # compute number of voxels of false negative connected components (of the ground truth mask) in the prediction mask\n",
    "    gt_connected_components = cc3d.connected_components(gtarray, connectivity=18)\n",
    "    \n",
    "    false_negative = 0\n",
    "    for idx in range(1,gt_connected_components.max()+1):\n",
    "        comp_mask = np.isin(gt_connected_components, idx)\n",
    "        if (comp_mask*predarray).sum() == 0:\n",
    "            false_negative += comp_mask.sum()\n",
    "\n",
    "    voxel_volume_cc = np.prod(spacing)/1000\n",
    "    return false_negative*voxel_volume_cc\n",
    "\n",
    "# %%\n",
    "def is_suvmax_detected(\n",
    "    gtarray: np.ndarray,\n",
    "    predarray: np.ndarray,\n",
    "    ptarray: np.ndarray,\n",
    ") -> bool:\n",
    "    prod = np.multiply(gtarray, ptarray)\n",
    "    max_index = np.unravel_index(np.argmax(prod), prod.shape)\n",
    "    if predarray[max_index] == 1:\n",
    "        return True\n",
    "    else:\n",
    "        return False\n",
    "\n",
    "\n",
    "def calculate_patient_level_tp_fp_fn(\n",
    "    gtarray: np.ndarray,\n",
    "    predarray: np.ndarray,\n",
    "    criterion: str,\n",
    "    threshold: np.float64 = None,\n",
    "    ptarray: np.ndarray = None,\n",
    ") -> (int, int, int):\n",
    "    \"\"\"Calculate patient-level TP, FP, and FN (for detection based metrics)\n",
    "    via 3 criteria:\n",
    "\n",
    "    criterion1: A predicted lesion is TP if any one of it's foreground voxels \n",
    "    overlaps with GT foreground. A predicted lesions that doesn't overlap with any \n",
    "    GT foreground is FP. As soon as a lesion is predicted as TP, it is removed\n",
    "    from the set of GT lesions. The lesions that remain in the end in the GT lesions\n",
    "    are FN. `criterion1` is the weakest detection criterion.\n",
    "\n",
    "    criterion2: A predicted lesion is TP if more than `threshold`% of it's volume \n",
    "    overlaps with foreground GT. A predicted lesion is FP if it overlap fraction\n",
    "    with foreground GT is between 0% and `threshold`%. As soon as a lesion is \n",
    "    predicted as TP, it is removed from the set of GT lesions. The lesions that \n",
    "    remain in the end in the GT lesions are FN. `criterion2` can be hard or weak \n",
    "    criterion based on the value of `threshold`.\n",
    "\n",
    "    criterion3: A predicted lesion is TP if it overlaps with one the the GT lesion's \n",
    "    SUVmax voxel, hence this criterion requires the use of PET data (`ptarray`). A \n",
    "    predicted lesion that doesn't overlap with any GT lesion's SUVmax voxel is \n",
    "    considered FP. As soon as a lesion is predicted as TP, it is removed from the \n",
    "    set of GT lesions. The lesions that remain in the end in the GT lesions are FN. \n",
    "    `criterion3` is likely an easy criterion since a network is more likely to segment \n",
    "    high(er)-uptake regions`.\n",
    "\n",
    "    Args:\n",
    "        int (_type_): _description_\n",
    "        int (_type_): _description_\n",
    "        gtarray (_type_, optional): _description_. Defaults to None, ptarray: np.ndarray = None, )->(int.\n",
    "    \"\"\"\n",
    "    \n",
    "    gtarray_labeled_mask, num_lesions_gt = cc3d.connected_components(gtarray, connectivity=18, return_N=True)\n",
    "    predarray_labeled_mask, num_lesions_pred = cc3d.connected_components(predarray, connectivity=18, return_N=True)\n",
    "    gt_lesions_list = list(np.arange(1, num_lesions_gt+1))\n",
    "    #initial values for TP, FP, FN\n",
    "    TP = 0\n",
    "    FP = 0 \n",
    "    FN = num_lesions_gt \n",
    "\n",
    "    if criterion == 'criterion1':\n",
    "        FN = 0 # for this criterion we are counting the number of FPs from 0 onwards, hence the reassignment\n",
    "        for i in range(1, num_lesions_pred+1):\n",
    "            pred_lesion_mask = np.where(predarray_labeled_mask == i, 1, 0)\n",
    "            if np.any(pred_lesion_mask & (gtarray_labeled_mask > 0)):\n",
    "                TP += 1\n",
    "            else:\n",
    "                FP += 1\n",
    "        for j in range(1, num_lesions_gt+1):\n",
    "            gt_lesion_mask = np.where(gtarray_labeled_mask == j, 1, 0)\n",
    "            if not np.any(gt_lesion_mask & (predarray_labeled_mask > 0)):\n",
    "                FN += 1\n",
    "\n",
    "    elif criterion == 'criterion2':\n",
    "        for i in range(1, num_lesions_pred+1):\n",
    "            max_iou = 0\n",
    "            match_gt_lesion = None \n",
    "            pred_lesion_mask = np.where(predarray_labeled_mask == i, 1, 0)\n",
    "            for j in range(1, num_lesions_gt+1):\n",
    "                gt_lesion_mask = np.where(gtarray_labeled_mask == j, 1, 0)\n",
    "                iou = calculate_patient_level_iou(gt_lesion_mask, pred_lesion_mask)\n",
    "                if iou > max_iou:\n",
    "                    max_iou = iou\n",
    "                    match_gt_lesion = j\n",
    "            if max_iou >= threshold:\n",
    "                TP += 1\n",
    "                gt_lesions_list.remove(match_gt_lesion)\n",
    "            else:\n",
    "                FP += 1\n",
    "        FN = len(gt_lesions_list)\n",
    "\n",
    "    elif criterion == 'criterion3':\n",
    "        for i in range(1, num_lesions_pred+1):\n",
    "            max_iou = 0\n",
    "            match_gt_lesion = None\n",
    "            pred_lesion_mask = np.where(predarray_labeled_mask == i, 1, 0)\n",
    "            for j in range(1, num_lesions_gt+1):\n",
    "                gt_lesion_mask = np.where(gtarray_labeled_mask == j, 1, 0)\n",
    "                iou = calculate_patient_level_iou(gt_lesion_mask, pred_lesion_mask)\n",
    "                if iou > max_iou:\n",
    "                    max_iou = iou \n",
    "                    match_gt_lesion = j\n",
    "            \n",
    "            # match_gt_lesion has been defined with has the maximum iou with pred lesion i\n",
    "            arr_gt_lesion = np.where(gtarray_labeled_mask == match_gt_lesion, 1, 0)\n",
    "            if is_suvmax_detected(arr_gt_lesion, pred_lesion_mask, ptarray):\n",
    "                TP += 1\n",
    "                gt_lesions_list.remove(match_gt_lesion)\n",
    "            else:\n",
    "                FP += 1\n",
    "        \n",
    "        FN = len(gt_lesions_list)\n",
    "\n",
    "    else:\n",
    "        print('Invalid criterion. Choose between criterion1, criterion2, or criterion3')\n",
    "        return \n",
    "    \n",
    "    return TP, FP, FN\n"
   ]
  }
 ],
 "metadata": {
  "kernelspec": {
   "display_name": "lymphoma_seg",
   "language": "python",
   "name": "python3"
  },
  "language_info": {
   "codemirror_mode": {
    "name": "ipython",
    "version": 3
   },
   "file_extension": ".py",
   "mimetype": "text/x-python",
   "name": "python",
   "nbconvert_exporter": "python",
   "pygments_lexer": "ipython3",
   "version": "3.8.10"
  }
 },
 "nbformat": 4,
 "nbformat_minor": 2
}
